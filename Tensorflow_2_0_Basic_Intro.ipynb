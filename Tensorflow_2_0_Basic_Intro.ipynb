{
  "nbformat": 4,
  "nbformat_minor": 0,
  "metadata": {
    "colab": {
      "name": "Tensorflow_2_0_Basic Intro.ipynb",
      "provenance": [],
      "collapsed_sections": []
    },
    "kernelspec": {
      "name": "python3",
      "display_name": "Python 3"
    }
  },
  "cells": [
    {
      "cell_type": "markdown",
      "metadata": {
        "id": "kRQt0-e8okvY",
        "colab_type": "text"
      },
      "source": [
        "**Import TensorFlow**\n",
        "\n",
        "Let's get started,first step is importing the tensorflow module.As of TensorFlow 2, eager execution is turned on by default. This enables a more interactive frontend to TensorFlow, the details of which we will discuss much later\n"
      ]
    },
    {
      "cell_type": "code",
      "metadata": {
        "id": "FASME0ZQn7_L",
        "colab_type": "code",
        "colab": {}
      },
      "source": [
        "import tensorflow as tf"
      ],
      "execution_count": 0,
      "outputs": []
    },
    {
      "cell_type": "markdown",
      "metadata": {
        "id": "sswUmq0Vpaa-",
        "colab_type": "text"
      },
      "source": [
        "**Version Check**"
      ]
    },
    {
      "cell_type": "code",
      "metadata": {
        "id": "UAEAKUFopdhW",
        "colab_type": "code",
        "colab": {
          "base_uri": "https://localhost:8080/",
          "height": 34
        },
        "outputId": "807a24a9-8f6a-4c9f-9569-ad546835d6dc"
      },
      "source": [
        "#rc- Release Candidate\n",
        "\n",
        "print(tf.__version__)"
      ],
      "execution_count": 2,
      "outputs": [
        {
          "output_type": "stream",
          "text": [
            "2.2.0\n"
          ],
          "name": "stdout"
        }
      ]
    },
    {
      "cell_type": "markdown",
      "metadata": {
        "id": "ReJW2xeGpos3",
        "colab_type": "text"
      },
      "source": [
        "**Tensors in 2.0**\n",
        "\n",
        "A Tensor is a multi-dimensional array. Similar to NumPy ndarray objects, tf.Tensor objects have a data type and a shape. Additionally, tf.Tensors can reside in accelerator memory (like a GPU). TensorFlow offers a rich library of operations (tf.add, tf.matmul, tf.linalg.inv etc.) that consume and produce tf.Tensors. These operations automatically convert native Python types, for example:\n",
        "\n",
        "1.  Printing Hello Wrold\n",
        "2.  Printing two numbers\n",
        "3.  Vector Sum\n",
        "4.  Sum of squares\n",
        "5.  Computing the sum of elements across dimensions of a tensor.\n",
        "6.  Seprate Sum\n",
        "7.  Operator overloading is also supported\n",
        "8.  Matrix Multiplication\n",
        "9.  Shape of matrix\n",
        "10. Checking datatype of matrix\n",
        "\n",
        "\n",
        "\n",
        "\n",
        "\n"
      ]
    },
    {
      "cell_type": "code",
      "metadata": {
        "id": "r8-fsfBNpzZa",
        "colab_type": "code",
        "colab": {
          "base_uri": "https://localhost:8080/",
          "height": 34
        },
        "outputId": "214d1630-34a4-4b9a-adc9-b86c6e7cc07b"
      },
      "source": [
        "# Hello Wrold \n",
        "msg = tf.constant('TensorFlow 2.0 Hello World')\n",
        "tf.print(msg)"
      ],
      "execution_count": 3,
      "outputs": [
        {
          "output_type": "stream",
          "text": [
            "TensorFlow 2.0 Hello World\n"
          ],
          "name": "stdout"
        }
      ]
    },
    {
      "cell_type": "code",
      "metadata": {
        "id": "slZHvb5Opyfk",
        "colab_type": "code",
        "colab": {
          "base_uri": "https://localhost:8080/",
          "height": 34
        },
        "outputId": "7889bf4d-ac1c-4f15-c2ff-9898422752e9"
      },
      "source": [
        "#Adding wo numbers\n",
        "print(tf.add(1, 2))"
      ],
      "execution_count": 4,
      "outputs": [
        {
          "output_type": "stream",
          "text": [
            "tf.Tensor(3, shape=(), dtype=int32)\n"
          ],
          "name": "stdout"
        }
      ]
    },
    {
      "cell_type": "code",
      "metadata": {
        "id": "Ux74STbarCtM",
        "colab_type": "code",
        "colab": {
          "base_uri": "https://localhost:8080/",
          "height": 34
        },
        "outputId": "73d960b8-4c61-45e1-c9df-0c0df5ec0017"
      },
      "source": [
        "#Vector Sum\n",
        "print(tf.add([1.0, 2.0], [3, 4]))"
      ],
      "execution_count": 5,
      "outputs": [
        {
          "output_type": "stream",
          "text": [
            "tf.Tensor([4. 6.], shape=(2,), dtype=float32)\n"
          ],
          "name": "stdout"
        }
      ]
    },
    {
      "cell_type": "code",
      "metadata": {
        "id": "a-aQxBSIrEP-",
        "colab_type": "code",
        "colab": {
          "base_uri": "https://localhost:8080/",
          "height": 34
        },
        "outputId": "4d3ecc46-3a18-4b49-aab9-05ad2f2f7050"
      },
      "source": [
        "#Sum of squares\n",
        "print(tf.square(5))"
      ],
      "execution_count": 6,
      "outputs": [
        {
          "output_type": "stream",
          "text": [
            "tf.Tensor(25, shape=(), dtype=int32)\n"
          ],
          "name": "stdout"
        }
      ]
    },
    {
      "cell_type": "code",
      "metadata": {
        "id": "sweyFozyrEkh",
        "colab_type": "code",
        "colab": {
          "base_uri": "https://localhost:8080/",
          "height": 34
        },
        "outputId": "7f5c5809-0011-4d89-e8f7-01d4d5446a26"
      },
      "source": [
        "#Computing the sum of elements across dimensions of a tensor.\n",
        "print(tf.reduce_sum([1, 2, 3]))"
      ],
      "execution_count": 7,
      "outputs": [
        {
          "output_type": "stream",
          "text": [
            "tf.Tensor(6, shape=(), dtype=int32)\n"
          ],
          "name": "stdout"
        }
      ]
    },
    {
      "cell_type": "code",
      "metadata": {
        "id": "mI8Hx-POrFIo",
        "colab_type": "code",
        "colab": {
          "base_uri": "https://localhost:8080/",
          "height": 85
        },
        "outputId": "eb16c885-662d-45d1-88c9-2613def8c4fe"
      },
      "source": [
        "#Seprate Sum\n",
        "a = tf.constant([1, 2])\n",
        "b = tf.constant([3, 4])\n",
        "print(a + b)\n",
        "print(a - b)\n",
        "print(a * b)\n",
        "print(a / b)"
      ],
      "execution_count": 8,
      "outputs": [
        {
          "output_type": "stream",
          "text": [
            "tf.Tensor([4 6], shape=(2,), dtype=int32)\n",
            "tf.Tensor([-2 -2], shape=(2,), dtype=int32)\n",
            "tf.Tensor([3 8], shape=(2,), dtype=int32)\n",
            "tf.Tensor([0.33333333 0.5       ], shape=(2,), dtype=float64)\n"
          ],
          "name": "stdout"
        }
      ]
    },
    {
      "cell_type": "code",
      "metadata": {
        "id": "5XyXxdxHrFD9",
        "colab_type": "code",
        "colab": {
          "base_uri": "https://localhost:8080/",
          "height": 34
        },
        "outputId": "742a063a-5942-4b96-a7ca-099d18a69c6f"
      },
      "source": [
        "# Operator overloading is also supported\n",
        "print(tf.square(2) + tf.square(3))"
      ],
      "execution_count": 9,
      "outputs": [
        {
          "output_type": "stream",
          "text": [
            "tf.Tensor(13, shape=(), dtype=int32)\n"
          ],
          "name": "stdout"
        }
      ]
    },
    {
      "cell_type": "code",
      "metadata": {
        "id": "5FtBUN3frE_g",
        "colab_type": "code",
        "colab": {
          "base_uri": "https://localhost:8080/",
          "height": 34
        },
        "outputId": "414ca7a0-ea81-487d-ac13-d3589514e162"
      },
      "source": [
        "#Matrix Multiplication\n",
        "x = tf.matmul([[1]], [[2, 3]])\n",
        "print(x)"
      ],
      "execution_count": 10,
      "outputs": [
        {
          "output_type": "stream",
          "text": [
            "tf.Tensor([[2 3]], shape=(1, 2), dtype=int32)\n"
          ],
          "name": "stdout"
        }
      ]
    },
    {
      "cell_type": "code",
      "metadata": {
        "id": "bxAE7TtVrEhd",
        "colab_type": "code",
        "colab": {
          "base_uri": "https://localhost:8080/",
          "height": 34
        },
        "outputId": "9c59a6dd-00f2-4a1e-f1cf-ca7895702594"
      },
      "source": [
        "#Shape of matrix\n",
        "print(x.shape)"
      ],
      "execution_count": 11,
      "outputs": [
        {
          "output_type": "stream",
          "text": [
            "(1, 2)\n"
          ],
          "name": "stdout"
        }
      ]
    },
    {
      "cell_type": "code",
      "metadata": {
        "id": "5sePK5FvrEc5",
        "colab_type": "code",
        "colab": {
          "base_uri": "https://localhost:8080/",
          "height": 34
        },
        "outputId": "93dabf6d-100c-483f-972a-952509026593"
      },
      "source": [
        "#Checking datatype of matrix\n",
        "print(x.dtype)"
      ],
      "execution_count": 12,
      "outputs": [
        {
          "output_type": "stream",
          "text": [
            "<dtype: 'int32'>\n"
          ],
          "name": "stdout"
        }
      ]
    },
    {
      "cell_type": "markdown",
      "metadata": {
        "id": "OLJxtbTrrk8Z",
        "colab_type": "text"
      },
      "source": [
        "\n",
        "The most obvious differences between NumPy arrays and tf.Tensors are:\n",
        "\n",
        "1. Tensors can be backed by accelerator memory (like GPU, TPU).\n",
        "2. Tensors are immutable."
      ]
    }
  ]
}